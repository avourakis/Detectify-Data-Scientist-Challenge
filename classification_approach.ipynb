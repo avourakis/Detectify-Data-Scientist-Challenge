{
 "cells": [
  {
   "cell_type": "markdown",
   "metadata": {},
   "source": [
    "# Classification: blind SQL injection vulnerability detection\n",
    "\n",
    "In this notebook, I consider the problem of blind SQL injection vulnerability detection using the method of Classification. Specifically, given the round-trip-time (RTT) of a URL that was asked to go to sleep for a few seconds, the goal is to predict if the url is vulnerable to a blind SQL injection (label 1) or is safe (label 0).\n",
    "\n",
    "**Dataset**\n",
    "\n",
    "The training and test data sets for this problem is provided in the file `dataset_50000_2.csv`. Each row in these files corresponds to a url, with column 2 containing the sleep delay injected and column 3 containing the RTT. The last column contains the class label, and is based on the label of url, safe or vulnerable.\n",
    "\n",
    "The dataset contains a total of 100,000 urls, of which the first half are vulnerable, while the remaining are all safe. \n",
    "\n",
    "**Optimization**\n",
    "\n",
    "The goal is optimize the Classification algorithm for speed and specificity. More speficically, it needs to test a single url within a few seconds and to have a FPR of less than 0.0001 (1 in 10,000)"
   ]
  },
  {
   "cell_type": "markdown",
   "metadata": {},
   "source": [
    "Import libraries"
   ]
  },
  {
   "cell_type": "code",
   "execution_count": 118,
   "metadata": {},
   "outputs": [],
   "source": [
    "import numpy as np\n",
    "import statsmodels as sm\n",
    "import matplotlib.pyplot as plt\n",
    "import pandas as pd\n",
    "from sklearn.model_selection import train_test_split\n",
    "from sklearn.svm import SVC\n",
    "from sklearn.metrics import confusion_matrix\n",
    "from sklearn.metrics import accuracy_score\n",
    "from sklearn.metrics import classification_report\n",
    "from statsmodels.distributions.empirical_distribution import ECDF\n",
    "import sklearn.metrics as metrics\n",
    "import pickle\n",
    "import timeit\n",
    "import seaborn as sns\n",
    "import svc_test as svc\n",
    "import requests\n",
    "sns.set()"
   ]
  },
  {
   "cell_type": "markdown",
   "metadata": {},
   "source": [
    "# Part (a): Data Exploration\n",
    "\n",
    "1. Collect RTTS of safe and vulnerable URLs and save them into CSV files.\n",
    "\n",
    "2. Compare the safe and vulnerable RTTs by visualizing them and comparing their mean (as well as other metrics)."
   ]
  },
  {
   "cell_type": "markdown",
   "metadata": {},
   "source": [
    "**Note:** In order to collect thousands of RTTs in a reasonable amount of time, I wrote a script that makes http requests asynchronously. This script can only run outside of this jupyter notebook"
   ]
  },
  {
   "cell_type": "code",
   "execution_count": 119,
   "metadata": {},
   "outputs": [],
   "source": [
    "# 50,000 RTTs, half vulnerable and hald safe with a 2 second sleep delay\n",
    "dataset_df = pd.read_csv('Other/dataset_50000_2.csv')"
   ]
  },
  {
   "cell_type": "code",
   "execution_count": 120,
   "metadata": {},
   "outputs": [
    {
     "data": {
      "text/html": [
       "<div>\n",
       "<style scoped>\n",
       "    .dataframe tbody tr th:only-of-type {\n",
       "        vertical-align: middle;\n",
       "    }\n",
       "\n",
       "    .dataframe tbody tr th {\n",
       "        vertical-align: top;\n",
       "    }\n",
       "\n",
       "    .dataframe thead th {\n",
       "        text-align: right;\n",
       "    }\n",
       "</style>\n",
       "<table border=\"1\" class=\"dataframe\">\n",
       "  <thead>\n",
       "    <tr style=\"text-align: right;\">\n",
       "      <th></th>\n",
       "      <th>URL</th>\n",
       "      <th>Sleep Delay</th>\n",
       "      <th>RTT</th>\n",
       "      <th>Vulnerable</th>\n",
       "    </tr>\n",
       "  </thead>\n",
       "  <tbody>\n",
       "    <tr>\n",
       "      <th>0</th>\n",
       "      <td>http://localhost:5000/vulnerable/1/page?id=SLE...</td>\n",
       "      <td>2</td>\n",
       "      <td>14.356463</td>\n",
       "      <td>1</td>\n",
       "    </tr>\n",
       "    <tr>\n",
       "      <th>1</th>\n",
       "      <td>http://localhost:5000/vulnerable/2/page?id=SLE...</td>\n",
       "      <td>2</td>\n",
       "      <td>11.794838</td>\n",
       "      <td>1</td>\n",
       "    </tr>\n",
       "    <tr>\n",
       "      <th>2</th>\n",
       "      <td>http://localhost:5000/vulnerable/3/page?id=SLE...</td>\n",
       "      <td>2</td>\n",
       "      <td>15.530525</td>\n",
       "      <td>1</td>\n",
       "    </tr>\n",
       "    <tr>\n",
       "      <th>3</th>\n",
       "      <td>http://localhost:5000/vulnerable/4/page?id=SLE...</td>\n",
       "      <td>2</td>\n",
       "      <td>15.984062</td>\n",
       "      <td>1</td>\n",
       "    </tr>\n",
       "    <tr>\n",
       "      <th>4</th>\n",
       "      <td>http://localhost:5000/vulnerable/5/page?id=SLE...</td>\n",
       "      <td>2</td>\n",
       "      <td>12.523224</td>\n",
       "      <td>1</td>\n",
       "    </tr>\n",
       "  </tbody>\n",
       "</table>\n",
       "</div>"
      ],
      "text/plain": [
       "                                                 URL  Sleep Delay        RTT  \\\n",
       "0  http://localhost:5000/vulnerable/1/page?id=SLE...            2  14.356463   \n",
       "1  http://localhost:5000/vulnerable/2/page?id=SLE...            2  11.794838   \n",
       "2  http://localhost:5000/vulnerable/3/page?id=SLE...            2  15.530525   \n",
       "3  http://localhost:5000/vulnerable/4/page?id=SLE...            2  15.984062   \n",
       "4  http://localhost:5000/vulnerable/5/page?id=SLE...            2  12.523224   \n",
       "\n",
       "   Vulnerable  \n",
       "0           1  \n",
       "1           1  \n",
       "2           1  \n",
       "3           1  \n",
       "4           1  "
      ]
     },
     "execution_count": 120,
     "metadata": {},
     "output_type": "execute_result"
    }
   ],
   "source": [
    "dataset_df.head()"
   ]
  },
  {
   "cell_type": "code",
   "execution_count": 121,
   "metadata": {},
   "outputs": [
    {
     "data": {
      "image/png": "[encoded data removed]",
      "text/plain": [
       "<Figure size 648x432 with 1 Axes>"
      ]
     },
     "metadata": {},
     "output_type": "display_data"
    }
   ],
   "source": [
    "# Splits the data into Vulnerable and Safe urls\n",
    "vul_data = dataset_df[dataset_df['Vulnerable']==1]\n",
    "safe_data = dataset_df[dataset_df['Vulnerable']==0]\n",
    "\n",
    "# Calculates CDFs\n",
    "vul_ecdf = ECDF(vul_data['RTT']) \n",
    "safe_ecdf = ECDF(safe_data['RTT'])\n",
    "\n",
    "plt.figure(figsize=(9, 6))\n",
    "\n",
    "_ = plt.plot(vul_ecdf.x, vul_ecdf.y, marker='.')\n",
    "_ = plt.plot(safe_ecdf.x, safe_ecdf.y, marker='.')\n",
    "_ = plt.title('Safe vs Vulnerable (2 Second Delay)')\n",
    "_ = plt.legend(('Safe', 'Vulnerable'), loc='best')\n",
    "_ = plt.xlabel('RTT (secs)')\n",
    "_ = plt.ylabel('ECDF')"
   ]
  },
  {
   "cell_type": "code",
   "execution_count": 122,
   "metadata": {},
   "outputs": [
    {
     "data": {
      "image/png": "[encoded data removed]",
      "text/plain": [
       "<Figure size 648x432 with 1 Axes>"
      ]
     },
     "metadata": {},
     "output_type": "display_data"
    }
   ],
   "source": [
    "plt.figure(figsize=(9, 6))\n",
    "_ = plt.scatter(dataset_df['RTT'], dataset_df['Vulnerable'])"
   ]
  },
  {
   "cell_type": "markdown",
   "metadata": {},
   "source": [
    "**Observations:** The plot shows that most of the RTTs for both the safe and vulnerable URLs are much larger than expected. After doing much investigation, I noticed that the inflated RTTs were due to making http requests asynchronously. For the time being, I will use the data as is to train the classifier and attempt to find an alternative to the my current data collection method later."
   ]
  },
  {
   "cell_type": "markdown",
   "metadata": {},
   "source": [
    "## Part (b): Training the Classifier\n",
    "\n",
    "After trying out different classifier, Logistic Regression, Decision Tree, etc.., I decided to use a Support Vector Classifier as it seemed to give me the best score"
   ]
  },
  {
   "cell_type": "code",
   "execution_count": 123,
   "metadata": {},
   "outputs": [],
   "source": [
    "x_train, x_test, y_train, y_test = train_test_split(dataset_df['RTT'], dataset_df['Vulnerable'], test_size=0.41, random_state=0)"
   ]
  },
  {
   "cell_type": "code",
   "execution_count": 124,
   "metadata": {},
   "outputs": [
    {
     "data": {
      "text/plain": [
       "SVC(C=10, cache_size=200, class_weight=None, coef0=0.0,\n",
       "  decision_function_shape='ovr', degree=3, gamma='auto', kernel='rbf',\n",
       "  max_iter=-1, probability=True, random_state=None, shrinking=True,\n",
       "  tol=0.001, verbose=False)"
      ]
     },
     "execution_count": 124,
     "metadata": {},
     "output_type": "execute_result"
    }
   ],
   "source": [
    "# Train the model\n",
    "svc_model = SVC(C=10, gamma='auto', kernel = 'rbf', probability=True)\n",
    "svc_model.fit(np.array(x_train).reshape(-1,1), y_train)"
   ]
  },
  {
   "cell_type": "markdown",
   "metadata": {},
   "source": [
    "## Part (c): Evaluating and Optimizing\n",
    "\n",
    "1. Evaluating the model using the test data\n",
    "2. Making predictions with new data"
   ]
  },
  {
   "cell_type": "markdown",
   "metadata": {},
   "source": [
    "**1. Evaluating the model using the test data**"
   ]
  },
  {
   "cell_type": "code",
   "execution_count": 125,
   "metadata": {},
   "outputs": [],
   "source": [
    "# Make prediction on test data\n",
    "y_predict = svc_model.predict(np.array(x_test).reshape(-1,1))"
   ]
  },
  {
   "cell_type": "code",
   "execution_count": 126,
   "metadata": {},
   "outputs": [
    {
     "name": "stdout",
     "output_type": "stream",
     "text": [
      "The Accuracy score is: 0.9903414634146341\n"
     ]
    }
   ],
   "source": [
    "print('The Accuracy score is: {}'.format(accuracy_score(y_test, y_predict)))"
   ]
  },
  {
   "cell_type": "code",
   "execution_count": 127,
   "metadata": {},
   "outputs": [
    {
     "name": "stdout",
     "output_type": "stream",
     "text": [
      "Confusion Matrix\n",
      "[[10254     3]\n",
      " [  195 10048]]\n"
     ]
    }
   ],
   "source": [
    "print('Confusion Matrix')\n",
    "print(confusion_matrix(y_test, y_predict))"
   ]
  },
  {
   "cell_type": "code",
   "execution_count": 128,
   "metadata": {},
   "outputs": [
    {
     "name": "stdout",
     "output_type": "stream",
     "text": [
      "The FPR is: 0.0002924831822170225\n",
      "The FNR is 0.01903739138924143\n"
     ]
    }
   ],
   "source": [
    "tn, fp, fn, tp = confusion_matrix(y_test, y_predict).ravel()\n",
    "print('The FPR is: {}'.format(fp/(fp+tn)))\n",
    "print('The FNR is {}'.format(fn/(fn+tp)))"
   ]
  },
  {
   "cell_type": "code",
   "execution_count": 129,
   "metadata": {},
   "outputs": [],
   "source": [
    "# Save the trained model for later use\n",
    "filename = 'svc_final_model.pickle'\n",
    "#pickle.dump(svc_model, open(filename, 'wb'))"
   ]
  },
  {
   "cell_type": "markdown",
   "metadata": {},
   "source": [
    "**2. Making predictions with new data**"
   ]
  },
  {
   "cell_type": "code",
   "execution_count": 135,
   "metadata": {},
   "outputs": [],
   "source": [
    "def test(url):\n",
    "    '''\n",
    "    Returns whether the url passed is vulnerable (label 1) or safe (label 0)\n",
    "    '''\n",
    "    \n",
    "    # Load the trained SVC Model\n",
    "    svc_model = pickle.load(open('svc_final_model.pickle', 'rb'))\n",
    "\n",
    "    sleep_delay = 2 # The same sleep delay used during the training of the model\n",
    "    start = timeit.default_timer()\n",
    "    resp = requests.get(url + 'SLEEP({})'.format(sleep_delay))\n",
    "    rtt = np.array(timeit.default_timer() - start).reshape(-1,1)\n",
    "    \n",
    "    return svc_model.predict(rtt)[0]"
   ]
  },
  {
   "cell_type": "markdown",
   "metadata": {},
   "source": [
    "**Note:** The above code could also be found inside `svc_test.py`"
   ]
  },
  {
   "cell_type": "code",
   "execution_count": 136,
   "metadata": {},
   "outputs": [
    {
     "name": "stdout",
     "output_type": "stream",
     "text": [
      "0\n",
      "0\n",
      "0\n",
      "0\n",
      "0\n",
      "0\n",
      "0\n",
      "0\n",
      "0\n",
      "0\n",
      "0\n"
     ]
    }
   ],
   "source": [
    "# Making predictions on 10 unseen vulnerable URLs. \n",
    "for i in range(11):\n",
    "    url = 'http://localhost:5000/vulnerable/{}/page?id='.format(i)\n",
    "    print(test(url))"
   ]
  },
  {
   "cell_type": "markdown",
   "metadata": {},
   "source": [
    "**Observations:** Although the FPR for this model was promising, I encountered an issued while making predictions on new data (not the test data). Even though the confusion matrix reported a FNR of 0.01 (that is 1 in 100), as you can see above, the model mislabeled all 10 vulnerable (label 1) urls as safe (label 0). This was unfortunately due to the inflated RTTs that it was trained on. Since the RTT (not inflated) for a vulnerable url with a sleep delay of 2 seconds ranges from about 11-15 seconds, and the SVC expects it be larger than ~25 seconds, it get labeled as safe. \n",
    "\n",
    "This issue could be resolved by improving the way the elapsed time of the asynchronous http requests is measured during the collection of the training data."
   ]
  }
 ],
 "metadata": {
  "kernelspec": {
   "display_name": "Python 3",
   "language": "python",
   "name": "python3"
  },
  "language_info": {
   "codemirror_mode": {
    "name": "ipython",
    "version": 3
   },
   "file_extension": ".py",
   "mimetype": "text/x-python",
   "name": "python",
   "nbconvert_exporter": "python",
   "pygments_lexer": "ipython3",
   "version": "3.7.2"
  }
 },
 "nbformat": 4,
 "nbformat_minor": 2
}
