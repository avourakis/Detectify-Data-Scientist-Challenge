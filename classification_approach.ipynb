{
 "cells": [
  {
   "cell_type": "markdown",
   "metadata": {},
   "source": [
    "# Classification: blind SQL injection vulnerability detection\n",
    "\n",
    "In this notebook, I consider the problem of blind SQL injection vulnerability detection using the method of Classification. Specifically, given the round-trip-time (RTT) of a URL that was asked to go to sleep for a few seconds, the goal is to predict if the url is vulnerable to a blind SQL injection (label 1) or is safe (label 0).\n",
    "\n",
    "**Dataset**\n",
    "\n",
    "The training and test data sets for this problem is provided in the file `dataset_50000_2.csv`. Each row in these files corresponds to a url, with column 2 containing the sleep delay injected and column 3 containing the RTT. The last column contains the class label, and is based on the label of url, safe or vulnerable.\n",
    "\n",
    "The dataset contains a total of 50,000 urls, of which the first half are vulnerable, while the remaining are all safe. \n",
    "\n",
    "**Optimization**\n",
    "\n",
    "The goal is optimize the Classification algorithm for speed and accuracy. More speficically, it needs to have a true positive rate of less than 0.0001 (1 in 10,000)"
   ]
  },
  {
   "cell_type": "markdown",
   "metadata": {},
   "source": [
    "Import libraries"
   ]
  },
  {
   "cell_type": "code",
   "execution_count": 14,
   "metadata": {},
   "outputs": [],
   "source": [
    "import numpy as np\n",
    "import statsmodels as sm\n",
    "import matplotlib.pyplot as plt\n",
    "import pandas as pd\n",
    "from sklearn.model_selection import train_test_split\n",
    "from sklearn.svm import SVC\n",
    "from sklearn.metrics import confusion_matrix\n",
    "from sklearn.metrics import accuracy_score\n",
    "from sklearn.metrics import classification_report\n",
    "from statsmodels.distributions.empirical_distribution import ECDF\n",
    "import sklearn.metrics as metrics\n",
    "import pickle\n",
    "import seaborn as sns\n",
    "sns.set()"
   ]
  },
  {
   "cell_type": "markdown",
   "metadata": {},
   "source": [
    "# Part (a): Data Exploration"
   ]
  },
  {
   "cell_type": "code",
   "execution_count": 15,
   "metadata": {},
   "outputs": [],
   "source": [
    "dataset_df = pd.read_csv('Other/dataset_50000_2.csv')"
   ]
  },
  {
   "cell_type": "code",
   "execution_count": 17,
   "metadata": {},
   "outputs": [
    {
     "data": {
      "text/html": [
       "<div>\n",
       "<style scoped>\n",
       "    .dataframe tbody tr th:only-of-type {\n",
       "        vertical-align: middle;\n",
       "    }\n",
       "\n",
       "    .dataframe tbody tr th {\n",
       "        vertical-align: top;\n",
       "    }\n",
       "\n",
       "    .dataframe thead th {\n",
       "        text-align: right;\n",
       "    }\n",
       "</style>\n",
       "<table border=\"1\" class=\"dataframe\">\n",
       "  <thead>\n",
       "    <tr style=\"text-align: right;\">\n",
       "      <th></th>\n",
       "      <th>URL</th>\n",
       "      <th>Sleep Delay</th>\n",
       "      <th>RTT</th>\n",
       "      <th>Vulnerable</th>\n",
       "    </tr>\n",
       "  </thead>\n",
       "  <tbody>\n",
       "    <tr>\n",
       "      <th>0</th>\n",
       "      <td>http://localhost:5000/vulnerable/1/page?id=SLE...</td>\n",
       "      <td>2</td>\n",
       "      <td>14.356463</td>\n",
       "      <td>1</td>\n",
       "    </tr>\n",
       "    <tr>\n",
       "      <th>1</th>\n",
       "      <td>http://localhost:5000/vulnerable/2/page?id=SLE...</td>\n",
       "      <td>2</td>\n",
       "      <td>11.794838</td>\n",
       "      <td>1</td>\n",
       "    </tr>\n",
       "    <tr>\n",
       "      <th>2</th>\n",
       "      <td>http://localhost:5000/vulnerable/3/page?id=SLE...</td>\n",
       "      <td>2</td>\n",
       "      <td>15.530525</td>\n",
       "      <td>1</td>\n",
       "    </tr>\n",
       "    <tr>\n",
       "      <th>3</th>\n",
       "      <td>http://localhost:5000/vulnerable/4/page?id=SLE...</td>\n",
       "      <td>2</td>\n",
       "      <td>15.984062</td>\n",
       "      <td>1</td>\n",
       "    </tr>\n",
       "    <tr>\n",
       "      <th>4</th>\n",
       "      <td>http://localhost:5000/vulnerable/5/page?id=SLE...</td>\n",
       "      <td>2</td>\n",
       "      <td>12.523224</td>\n",
       "      <td>1</td>\n",
       "    </tr>\n",
       "  </tbody>\n",
       "</table>\n",
       "</div>"
      ],
      "text/plain": [
       "                                                 URL  Sleep Delay        RTT  \\\n",
       "0  http://localhost:5000/vulnerable/1/page?id=SLE...            2  14.356463   \n",
       "1  http://localhost:5000/vulnerable/2/page?id=SLE...            2  11.794838   \n",
       "2  http://localhost:5000/vulnerable/3/page?id=SLE...            2  15.530525   \n",
       "3  http://localhost:5000/vulnerable/4/page?id=SLE...            2  15.984062   \n",
       "4  http://localhost:5000/vulnerable/5/page?id=SLE...            2  12.523224   \n",
       "\n",
       "   Vulnerable  \n",
       "0           1  \n",
       "1           1  \n",
       "2           1  \n",
       "3           1  \n",
       "4           1  "
      ]
     },
     "execution_count": 17,
     "metadata": {},
     "output_type": "execute_result"
    }
   ],
   "source": [
    "dataset_df[dataset_df['Vulnerable'] == 1].head()"
   ]
  },
  {
   "cell_type": "code",
   "execution_count": 36,
   "metadata": {},
   "outputs": [
    {
     "data": {
      "image/png": "[encoded data removed]",
      "text/plain": [
       "<Figure size 720x432 with 1 Axes>"
      ]
     },
     "metadata": {},
     "output_type": "display_data"
    }
   ],
   "source": [
    "vul_data = dataset_df[dataset_df['Vulnerable']==1]\n",
    "safe_data = dataset_df[dataset_df['Vulnerable']==0]\n",
    "\n",
    "vul_ecdf = ECDF(vul_data['RTT']) \n",
    "safe_ecdf = ECDF(safe_data['RTT'])\n",
    "\n",
    "plt.figure(figsize=(10, 6))\n",
    "_ = plt.plot(vul_ecdf.x, vul_ecdf.y, marker='.')\n",
    "_ = plt.plot(safe_ecdf.x, safe_ecdf.y, marker='.')\n",
    "_ = plt.title('Safe vs Vulnerable (2 Second Delay)')\n",
    "_ = plt.legend(('Safe', 'Vulnerable'), loc='best')\n",
    "_ = plt.xlabel('RTT (secs)')\n",
    "_ = plt.ylabel('ECDF')"
   ]
  },
  {
   "cell_type": "code",
   "execution_count": 37,
   "metadata": {},
   "outputs": [
    {
     "data": {
      "image/png": "[encoded data removed]",
      "text/plain": [
       "<Figure size 720x432 with 1 Axes>"
      ]
     },
     "metadata": {},
     "output_type": "display_data"
    }
   ],
   "source": [
    "plt.figure(figsize=(10, 6))\n",
    "_ = plt.scatter(dataset_df['RTT'], dataset_df['Vulnerable'])"
   ]
  },
  {
   "cell_type": "markdown",
   "metadata": {},
   "source": [
    "## Part (b): Training the Classifier"
   ]
  },
  {
   "cell_type": "code",
   "execution_count": 20,
   "metadata": {},
   "outputs": [],
   "source": [
    "x_train, x_test, y_train, y_test = train_test_split(dataset_df['RTT'], dataset_df['Vulnerable'], test_size=0.41, random_state=0)"
   ]
  },
  {
   "cell_type": "code",
   "execution_count": 21,
   "metadata": {},
   "outputs": [],
   "source": [
    "svc_model = SVC(C=10, gamma='auto', kernel = 'rbf', probability=True)\n",
    "svc_model.fit(np.array(x_train).reshape(-1,1), y_train)\n",
    "y_predict = svc_model.predict(np.array(x_test).reshape(-1,1))\n",
    "svc_score = svc_model.score(np.array(x_test).reshape(-1,1), y_test)\n"
   ]
  },
  {
   "cell_type": "markdown",
   "metadata": {},
   "source": [
    "## Part (c): Evaluating and Optimizing"
   ]
  },
  {
   "cell_type": "code",
   "execution_count": 22,
   "metadata": {},
   "outputs": [
    {
     "name": "stdout",
     "output_type": "stream",
     "text": [
      "0.9903414634146341\n",
      "[[10254     3]\n",
      " [  195 10048]]\n",
      "              precision    recall  f1-score   support\n",
      "\n",
      "           0       0.98      1.00      0.99     10257\n",
      "           1       1.00      0.98      0.99     10243\n",
      "\n",
      "   micro avg       0.99      0.99      0.99     20500\n",
      "   macro avg       0.99      0.99      0.99     20500\n",
      "weighted avg       0.99      0.99      0.99     20500\n",
      "\n"
     ]
    }
   ],
   "source": [
    "print(accuracy_score(y_test, y_predict))\n",
    "print(confusion_matrix(y_test, y_predict))\n",
    "print(classification_report(y_test, y_predict))"
   ]
  },
  {
   "cell_type": "code",
   "execution_count": 86,
   "metadata": {},
   "outputs": [
    {
     "name": "stdout",
     "output_type": "stream",
     "text": [
      "0.0002924831822170225\n"
     ]
    }
   ],
   "source": [
    "tn, fp, fn, tp = confusion_matrix(y_test, y_predict).ravel()\n",
    "print(fp/(fp+tn))"
   ]
  },
  {
   "cell_type": "code",
   "execution_count": 87,
   "metadata": {},
   "outputs": [
    {
     "data": {
      "text/plain": [
       "0.9903414634146341"
      ]
     },
     "execution_count": 87,
     "metadata": {},
     "output_type": "execute_result"
    }
   ],
   "source": [
    "svc_score"
   ]
  },
  {
   "cell_type": "code",
   "execution_count": 89,
   "metadata": {},
   "outputs": [],
   "source": [
    "filename = 'svc_final_model.pickle'\n",
    "pickle.dump(svc_model, open(filename, 'wb'))"
   ]
  }
 ],
 "metadata": {
  "kernelspec": {
   "display_name": "Python 3",
   "language": "python",
   "name": "python3"
  },
  "language_info": {
   "codemirror_mode": {
    "name": "ipython",
    "version": 3
   },
   "file_extension": ".py",
   "mimetype": "text/x-python",
   "name": "python",
   "nbconvert_exporter": "python",
   "pygments_lexer": "ipython3",
   "version": "3.7.2"
  }
 },
 "nbformat": 4,
 "nbformat_minor": 2
}
