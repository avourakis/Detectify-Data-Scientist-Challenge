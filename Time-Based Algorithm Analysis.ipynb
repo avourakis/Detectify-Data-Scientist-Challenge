{
 "cells": [
  {
   "cell_type": "markdown",
   "metadata": {},
   "source": [
    "# Time-Based Algorithm: blind SQL injection vulnerability detection\n",
    "\n",
    "In this notebook, I consider the problem of blind SQL injection vulnerability detection using a custom time-based algorithm. Specifically, making mutiple requests (half with a high sleep delay and the other half with a low sleep delay) to the url being tested and comparing their RTTs to decide whether the url is vulnerable (label 1) or safe (label 0)\n",
    "\n",
    "**Optimization:** The goal is optimize the algorithm for speed and accuracy. More speficically, it needs to have a true positive rate of less than 0.0001 (1 in 10,000) and a sleep delay that returns a RTT of less than 10 seconds on average"
   ]
  },
  {
   "cell_type": "code",
   "execution_count": 2,
   "metadata": {},
   "outputs": [],
   "source": [
    "import numpy as np\n",
    "import requests\n",
    "import pandas as pd\n",
    "import matplotlib.pyplot as plt\n",
    "import csv\n",
    "from statsmodels.distributions.empirical_distribution import ECDF"
   ]
  },
  {
   "cell_type": "markdown",
   "metadata": {},
   "source": [
    "**Collect URLs and Response times**"
   ]
  },
  {
   "cell_type": "code",
   "execution_count": 3,
   "metadata": {},
   "outputs": [],
   "source": [
    "# Helper Functions\n",
    "\n",
    "def get_url(page_type = 'safe', page_num = 1, query = '1'):\n",
    "    # Do check to make sure the URL returned is valid\n",
    "    return 'http://localhost:5000/{}/{}/page?id={}'.format(page_type, page_num, query)\n",
    "    \n",
    "def collect_rtts(page_type, query, n_pages):\n",
    "    '''\n",
    "    Collects RTTS from URLs and saves them into CSV file\n",
    "    '''\n",
    "    \n",
    "    file_name = '{}.csv'.format(page_type)\n",
    "    \n",
    "    with open(file_name, 'w') as file:\n",
    "        writer = csv.writer(file, delimiter=',', lineterminator='\\n')\n",
    "        writer.writerow(['URL', 'RTT'])\n",
    "        for i in range(1, n_pages+1):\n",
    "            url = get_url(page_type, i, query)\n",
    "            response = requests.get(url)\n",
    "            row = [url, response.elapsed.total_seconds()]\n",
    "            writer.writerow(row)"
   ]
  },
  {
   "cell_type": "raw",
   "metadata": {},
   "source": [
    "# Collect data of RTT and save them into CSV files\n",
    "collect_rtts('safe', '1', 100)\n",
    "collect_rtts('vulnerable', '1', 100)"
   ]
  },
  {
   "cell_type": "code",
   "execution_count": 284,
   "metadata": {},
   "outputs": [],
   "source": [
    "# Read data and analyze\n",
    "safe_df = pd.read_csv('safe.csv')\n",
    "vul_df = pd.read_csv('vulnerable.csv')\n",
    "\n",
    "dataset_delay = pd.read_csv('dataset_100000_1.csv')\n",
    "safe_delay = dataset_delay[dataset_delay['Vulnerable']==0]\n",
    "vul_delay = dataset_delay[dataset_delay['Vulnerable']==1]"
   ]
  },
  {
   "cell_type": "code",
   "execution_count": 81,
   "metadata": {},
   "outputs": [
    {
     "data": {
      "image/png": "[encoded data removed]",
      "text/plain": [
       "<Figure size 432x288 with 1 Axes>"
      ]
     },
     "metadata": {
      "needs_background": "light"
     },
     "output_type": "display_data"
    }
   ],
   "source": [
    "safe_ecdf = ECDF(safe_df['RTT'])\n",
    "vul_ecdf = ECDF(vul_df['RTT'])\n",
    "\n",
    "_ = plt.plot(safe_ecdf.x, safe_ecdf.y, marker='.', linestyle='none')\n",
    "_ = plt.plot(vul_ecdf.x, vul_ecdf.y, marker='.', linestyle='none')\n",
    "\n",
    "_ = plt.plot()\n",
    "\n",
    "plt.legend(('Safe', 'Vulnerable'), loc='best')\n",
    "_ = plt.xlabel('RTT (secs)')\n",
    "_ = plt.ylabel('ECDF')\n",
    "\n"
   ]
  },
  {
   "cell_type": "code",
   "execution_count": 82,
   "metadata": {},
   "outputs": [],
   "source": [
    "url = 'http://localhost:5000/vulnerable/{}/page?id='"
   ]
  },
  {
   "cell_type": "code",
   "execution_count": 286,
   "metadata": {},
   "outputs": [],
   "source": [
    "safe_test_df = pd.read_csv('safe_results_10500_0.8_0.03_24_3.csv')\n",
    "vul_test_df = pd.read_csv('vulnerable_results_10500_0.8_0.03_24_3.csv')\n",
    "#vul_test_df_1 = pd.read_csv('vulnerable_results_10000_0.8_0.03_24_3.5.csv')"
   ]
  },
  {
   "cell_type": "code",
   "execution_count": 287,
   "metadata": {},
   "outputs": [
    {
     "data": {
      "text/html": [
       "<div>\n",
       "<style scoped>\n",
       "    .dataframe tbody tr th:only-of-type {\n",
       "        vertical-align: middle;\n",
       "    }\n",
       "\n",
       "    .dataframe tbody tr th {\n",
       "        vertical-align: top;\n",
       "    }\n",
       "\n",
       "    .dataframe thead th {\n",
       "        text-align: right;\n",
       "    }\n",
       "</style>\n",
       "<table border=\"1\" class=\"dataframe\">\n",
       "  <thead>\n",
       "    <tr style=\"text-align: right;\">\n",
       "      <th></th>\n",
       "      <th>Test Result</th>\n",
       "    </tr>\n",
       "  </thead>\n",
       "  <tbody>\n",
       "    <tr>\n",
       "      <th>0</th>\n",
       "      <td>0</td>\n",
       "    </tr>\n",
       "    <tr>\n",
       "      <th>1</th>\n",
       "      <td>0</td>\n",
       "    </tr>\n",
       "    <tr>\n",
       "      <th>2</th>\n",
       "      <td>0</td>\n",
       "    </tr>\n",
       "    <tr>\n",
       "      <th>3</th>\n",
       "      <td>0</td>\n",
       "    </tr>\n",
       "    <tr>\n",
       "      <th>4</th>\n",
       "      <td>0</td>\n",
       "    </tr>\n",
       "  </tbody>\n",
       "</table>\n",
       "</div>"
      ],
      "text/plain": [
       "   Test Result\n",
       "0            0\n",
       "1            0\n",
       "2            0\n",
       "3            0\n",
       "4            0"
      ]
     },
     "execution_count": 287,
     "metadata": {},
     "output_type": "execute_result"
    }
   ],
   "source": [
    "safe_test_df.head()"
   ]
  },
  {
   "cell_type": "code",
   "execution_count": 288,
   "metadata": {},
   "outputs": [],
   "source": [
    "# Get False Positive Rate (FPR)\n",
    "fpr = np.sum(safe_test_df['Test Result'])/safe_test_df.shape[0]\n",
    "\n",
    "# Get False Negative Rate (FNR)\n",
    "fnr = vul_test_df[vul_test_df['Test Result'] == 0].count()/vul_test_df.shape[0]"
   ]
  },
  {
   "cell_type": "code",
   "execution_count": 289,
   "metadata": {},
   "outputs": [
    {
     "data": {
      "text/plain": [
       "0.0"
      ]
     },
     "execution_count": 289,
     "metadata": {},
     "output_type": "execute_result"
    }
   ],
   "source": [
    "fpr"
   ]
  },
  {
   "cell_type": "code",
   "execution_count": 290,
   "metadata": {},
   "outputs": [
    {
     "data": {
      "text/plain": [
       "Test Result    0.093429\n",
       "dtype: float64"
      ]
     },
     "execution_count": 290,
     "metadata": {},
     "output_type": "execute_result"
    }
   ],
   "source": [
    "fnr"
   ]
  },
  {
   "cell_type": "code",
   "execution_count": 291,
   "metadata": {},
   "outputs": [
    {
     "data": {
      "text/plain": [
       "Test Result    10500\n",
       "dtype: int64"
      ]
     },
     "execution_count": 291,
     "metadata": {},
     "output_type": "execute_result"
    }
   ],
   "source": [
    "safe_test_df[safe_test_df['Test Result'] == 0].count()"
   ]
  },
  {
   "cell_type": "code",
   "execution_count": 292,
   "metadata": {},
   "outputs": [
    {
     "data": {
      "text/plain": [
       "Test Result    0\n",
       "dtype: int64"
      ]
     },
     "execution_count": 292,
     "metadata": {},
     "output_type": "execute_result"
    }
   ],
   "source": [
    "safe_test_df[safe_test_df['Test Result'] == 1].count()"
   ]
  },
  {
   "cell_type": "code",
   "execution_count": 293,
   "metadata": {},
   "outputs": [
    {
     "data": {
      "text/plain": [
       "(10500, 1)"
      ]
     },
     "execution_count": 293,
     "metadata": {},
     "output_type": "execute_result"
    }
   ],
   "source": [
    "safe_test_df.shape"
   ]
  },
  {
   "cell_type": "code",
   "execution_count": 294,
   "metadata": {},
   "outputs": [
    {
     "data": {
      "text/plain": [
       "Test Result    9519\n",
       "dtype: int64"
      ]
     },
     "execution_count": 294,
     "metadata": {},
     "output_type": "execute_result"
    }
   ],
   "source": [
    "vul_test_df[vul_test_df['Test Result'] == 1].count()"
   ]
  },
  {
   "cell_type": "code",
   "execution_count": 295,
   "metadata": {},
   "outputs": [
    {
     "data": {
      "text/plain": [
       "(10500, 1)"
      ]
     },
     "execution_count": 295,
     "metadata": {},
     "output_type": "execute_result"
    }
   ],
   "source": [
    "vul_test_df.shape"
   ]
  },
  {
   "cell_type": "code",
   "execution_count": 296,
   "metadata": {},
   "outputs": [
    {
     "data": {
      "text/plain": [
       "Test Result    981\n",
       "dtype: int64"
      ]
     },
     "execution_count": 296,
     "metadata": {},
     "output_type": "execute_result"
    }
   ],
   "source": [
    "vul_test_df[vul_test_df['Test Result'] == 0].count()"
   ]
  },
  {
   "cell_type": "code",
   "execution_count": 298,
   "metadata": {},
   "outputs": [
    {
     "data": {
      "text/plain": [
       "0.09342857142857143"
      ]
     },
     "execution_count": 298,
     "metadata": {},
     "output_type": "execute_result"
    }
   ],
   "source": [
    "981/10500"
   ]
  },
  {
   "cell_type": "code",
   "execution_count": 257,
   "metadata": {},
   "outputs": [
    {
     "data": {
      "text/plain": [
       "Test Result    1952\n",
       "dtype: int64"
      ]
     },
     "execution_count": 257,
     "metadata": {},
     "output_type": "execute_result"
    }
   ],
   "source": [
    "vul_test_df_1[vul_test_df['Test Result'] == 0].count()"
   ]
  },
  {
   "cell_type": "code",
   "execution_count": null,
   "metadata": {},
   "outputs": [],
   "source": []
  }
 ],
 "metadata": {
  "kernelspec": {
   "display_name": "Python 3",
   "language": "python",
   "name": "python3"
  },
  "language_info": {
   "codemirror_mode": {
    "name": "ipython",
    "version": 3
   },
   "file_extension": ".py",
   "mimetype": "text/x-python",
   "name": "python",
   "nbconvert_exporter": "python",
   "pygments_lexer": "ipython3",
   "version": "3.7.2"
  }
 },
 "nbformat": 4,
 "nbformat_minor": 2
}
