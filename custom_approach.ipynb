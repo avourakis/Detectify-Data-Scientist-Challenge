{
 "cells": [
  {
   "cell_type": "markdown",
   "metadata": {},
   "source": [
    "# Time-Based Algorithm: blind SQL injection vulnerability detection\n",
    "\n",
    "In this notebook, I consider the problem of blind SQL injection vulnerability detection using a custom time-based algorithm. Specifically, making mutiple requests (half with a high sleep delay and the other half with a low sleep delay) to the url being tested and comparing their RTTs to decide whether the url is vulnerable (label 1) or safe (label 0)\n",
    "\n",
    "**Optimization:** The goal is optimize the algorithm for speed and accuracy. More speficically, it needs to have a true positive rate of less than 0.0001 (1 in 10,000) and a sleep delay that returns a RTT of less than 10 seconds on average"
   ]
  },
  {
   "cell_type": "code",
   "execution_count": null,
   "metadata": {},
   "outputs": [],
   "source": [
    "import numpy as np\n",
    "import requests\n",
    "import pandas as pd\n",
    "import matplotlib.pyplot as plt\n",
    "import csv\n",
    "from statsmodels.distributions.empirical_distribution import ECDF"
   ]
  },
  {
   "cell_type": "markdown",
   "metadata": {},
   "source": [
    "**Collect URLs and Response times**"
   ]
  },
  {
   "cell_type": "code",
   "execution_count": null,
   "metadata": {},
   "outputs": [],
   "source": [
    "# Helper Functions\n",
    "\n",
    "def get_url(page_type = 'safe', page_num = 1, query = '1'):\n",
    "    # Do check to make sure the URL returned is valid\n",
    "    return 'http://localhost:5000/{}/{}/page?id={}'.format(page_type, page_num, query)\n",
    "    \n",
    "def collect_rtts(page_type, query, n_pages):\n",
    "    '''\n",
    "    Collects RTTS from URLs and saves them into CSV file\n",
    "    '''\n",
    "    \n",
    "    file_name = '{}.csv'.format(page_type)\n",
    "    \n",
    "    with open(file_name, 'w') as file:\n",
    "        writer = csv.writer(file, delimiter=',', lineterminator='\\n')\n",
    "        writer.writerow(['URL', 'RTT'])\n",
    "        for i in range(1, n_pages+1):\n",
    "            url = get_url(page_type, i, query)\n",
    "            response = requests.get(url)\n",
    "            row = [url, response.elapsed.total_seconds()]\n",
    "            writer.writerow(row)"
   ]
  },
  {
   "cell_type": "raw",
   "metadata": {},
   "source": [
    "# Collect data of RTT and save them into CSV files\n",
    "collect_rtts('safe', '1', 100)\n",
    "collect_rtts('vulnerable', '1', 100)"
   ]
  },
  {
   "cell_type": "code",
   "execution_count": null,
   "metadata": {},
   "outputs": [],
   "source": [
    "# Read data and analyze\n",
    "safe_df = pd.read_csv('safe.csv')\n",
    "vul_df = pd.read_csv('vulnerable.csv')\n",
    "\n",
    "dataset_delay = pd.read_csv('dataset_100000_1.csv')\n",
    "safe_delay = dataset_delay[dataset_delay['Vulnerable']==0]\n",
    "vul_delay = dataset_delay[dataset_delay['Vulnerable']==1]"
   ]
  },
  {
   "cell_type": "code",
   "execution_count": null,
   "metadata": {},
   "outputs": [],
   "source": [
    "safe_ecdf = ECDF(safe_df['RTT'])\n",
    "vul_ecdf = ECDF(vul_df['RTT'])\n",
    "\n",
    "_ = plt.plot(safe_ecdf.x, safe_ecdf.y, marker='.', linestyle='none')\n",
    "_ = plt.plot(vul_ecdf.x, vul_ecdf.y, marker='.', linestyle='none')\n",
    "\n",
    "_ = plt.plot()\n",
    "\n",
    "plt.legend(('Safe', 'Vulnerable'), loc='best')\n",
    "_ = plt.xlabel('RTT (secs)')\n",
    "_ = plt.ylabel('ECDF')\n",
    "\n"
   ]
  },
  {
   "cell_type": "code",
   "execution_count": null,
   "metadata": {},
   "outputs": [],
   "source": [
    "url = 'http://localhost:5000/vulnerable/{}/page?id='"
   ]
  },
  {
   "cell_type": "code",
   "execution_count": null,
   "metadata": {},
   "outputs": [],
   "source": [
    "safe_test_df = pd.read_csv('safe_results_10500_0.8_0.03_24_3.csv')\n",
    "vul_test_df = pd.read_csv('vulnerable_results_10500_0.8_0.03_24_3.csv')\n",
    "#vul_test_df_1 = pd.read_csv('vulnerable_results_10000_0.8_0.03_24_3.5.csv')"
   ]
  },
  {
   "cell_type": "code",
   "execution_count": null,
   "metadata": {},
   "outputs": [],
   "source": [
    "safe_test_df.head()"
   ]
  },
  {
   "cell_type": "code",
   "execution_count": null,
   "metadata": {},
   "outputs": [],
   "source": [
    "# Get False Positive Rate (FPR)\n",
    "fpr = np.sum(safe_test_df['Test Result'])/safe_test_df.shape[0]\n",
    "\n",
    "# Get False Negative Rate (FNR)\n",
    "fnr = vul_test_df[vul_test_df['Test Result'] == 0].count()/vul_test_df.shape[0]"
   ]
  },
  {
   "cell_type": "code",
   "execution_count": null,
   "metadata": {},
   "outputs": [],
   "source": [
    "fpr"
   ]
  },
  {
   "cell_type": "code",
   "execution_count": null,
   "metadata": {},
   "outputs": [],
   "source": [
    "fnr"
   ]
  },
  {
   "cell_type": "code",
   "execution_count": null,
   "metadata": {},
   "outputs": [],
   "source": [
    "safe_test_df[safe_test_df['Test Result'] == 0].count()"
   ]
  },
  {
   "cell_type": "code",
   "execution_count": null,
   "metadata": {},
   "outputs": [],
   "source": [
    "safe_test_df[safe_test_df['Test Result'] == 1].count()"
   ]
  },
  {
   "cell_type": "code",
   "execution_count": null,
   "metadata": {},
   "outputs": [],
   "source": [
    "safe_test_df.shape"
   ]
  },
  {
   "cell_type": "code",
   "execution_count": null,
   "metadata": {},
   "outputs": [],
   "source": [
    "vul_test_df[vul_test_df['Test Result'] == 1].count()"
   ]
  },
  {
   "cell_type": "code",
   "execution_count": null,
   "metadata": {},
   "outputs": [],
   "source": [
    "vul_test_df.shape"
   ]
  },
  {
   "cell_type": "code",
   "execution_count": null,
   "metadata": {},
   "outputs": [],
   "source": [
    "vul_test_df[vul_test_df['Test Result'] == 0].count()"
   ]
  },
  {
   "cell_type": "code",
   "execution_count": null,
   "metadata": {},
   "outputs": [],
   "source": [
    "981/10500"
   ]
  },
  {
   "cell_type": "code",
   "execution_count": null,
   "metadata": {},
   "outputs": [],
   "source": [
    "vul_test_df_1[vul_test_df['Test Result'] == 0].count()"
   ]
  },
  {
   "cell_type": "code",
   "execution_count": null,
   "metadata": {},
   "outputs": [],
   "source": []
  }
 ],
 "metadata": {
  "kernelspec": {
   "display_name": "Python 3",
   "language": "python",
   "name": "python3"
  },
  "language_info": {
   "codemirror_mode": {
    "name": "ipython",
    "version": 3
   },
   "file_extension": ".py",
   "mimetype": "text/x-python",
   "name": "python",
   "nbconvert_exporter": "python",
   "pygments_lexer": "ipython3",
   "version": "3.7.2"
  }
 },
 "nbformat": 4,
 "nbformat_minor": 2
}
