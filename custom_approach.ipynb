{
 "cells": [
  {
   "cell_type": "markdown",
   "metadata": {},
   "source": [
    "# Time-Based Algorithm: blind SQL injection vulnerability detection\n",
    "\n",
    "In this notebook, I consider the problem of blind SQL injection vulnerability detection using a custom time-based algorithm. Specifically, making mutiple requests (half with a high sleep delay and the other half with a low sleep delay) to the url being tested and comparing their RTTs to decide whether the url is vulnerable (label 1) or safe (label 0)\n",
    "\n",
    "**Optimization:** The goal is optimize the algorithm for speed and accuracy. More speficically, it needs to have a true positive rate of less than 0.0001 (1 in 10,000) and a sleep delay that returns a RTT of less than 10 seconds on average"
   ]
  },
  {
   "cell_type": "markdown",
   "metadata": {},
   "source": [
    "Import libraries"
   ]
  },
  {
   "cell_type": "code",
   "execution_count": 244,
   "metadata": {},
   "outputs": [],
   "source": [
    "import numpy as np\n",
    "import requests\n",
    "import pandas as pd\n",
    "import matplotlib.pyplot as plt\n",
    "import csv\n",
    "import seaborn as sns\n",
    "sns.set()\n",
    "from statsmodels.distributions.empirical_distribution import ECDF\n",
    "%matplotlib inline"
   ]
  },
  {
   "cell_type": "markdown",
   "metadata": {},
   "source": [
    "# Part (a): Data Exploration\n",
    "\n",
    "1. Collect RTTS of safe and vulnerable URLs and save them into CSV files.\n",
    "\n",
    "2. Compare the safe and vulnerable RTTs by visualizing them and comparing their mean (as well as other metrics).\n"
   ]
  },
  {
   "cell_type": "markdown",
   "metadata": {},
   "source": [
    "**1. Collect RTTS of vulnerable and safe urls**"
   ]
  },
  {
   "cell_type": "code",
   "execution_count": 245,
   "metadata": {},
   "outputs": [],
   "source": [
    "def collect_rtts(page_type = 'safe', n_pages = 100, sleep_delay = 0):\n",
    "    '''\n",
    "    Collects RTTS from URLs and saves them into CSV file\n",
    "    '''\n",
    "    \n",
    "    if sleep_delay != 0:\n",
    "        query = 'SLEEP({})'.format(sleep_delay)\n",
    "        file_name = '{}_{}_{}.csv'.format(page_type, n_page, sleep_delay)\n",
    "    \n",
    "    else:\n",
    "        query = '1'\n",
    "        file_name = '{}_{}.csv'.format(page_type, n_pages)\n",
    "    \n",
    "    with open(file_name, 'w') as file:\n",
    "        writer = csv.writer(file, delimiter=',', lineterminator='\\n')\n",
    "        writer.writerow(['URL', 'RTT'])\n",
    "        for i in range(1, n_pages+1):\n",
    "            url = 'http://localhost:5000/{}/{}/page?id={}'.format(page_type, page_num, query)\n",
    "            response = requests.get(url)\n",
    "            row = [url, response.elapsed.total_seconds()]\n",
    "            writer.writerow(row)"
   ]
  },
  {
   "cell_type": "raw",
   "metadata": {},
   "source": [
    "collect_rtts('safe', 100)\n",
    "collect_rtts('vulnerable', 100)\n",
    "collect_rtts('vulnerable', 100, 1)"
   ]
  },
  {
   "cell_type": "code",
   "execution_count": 246,
   "metadata": {},
   "outputs": [],
   "source": [
    "# Read data\n",
    "safe_df = pd.read_csv('Data/safe_100.csv')\n",
    "vul_df = pd.read_csv('Data/vulnerable_100.csv')\n",
    "vul_delay_df = pd.read_csv('Data/vulnerable_100_1.csv') # 1 second sleep delay injected"
   ]
  },
  {
   "cell_type": "code",
   "execution_count": 247,
   "metadata": {},
   "outputs": [
    {
     "data": {
      "text/html": [
       "<div>\n",
       "<style scoped>\n",
       "    .dataframe tbody tr th:only-of-type {\n",
       "        vertical-align: middle;\n",
       "    }\n",
       "\n",
       "    .dataframe tbody tr th {\n",
       "        vertical-align: top;\n",
       "    }\n",
       "\n",
       "    .dataframe thead th {\n",
       "        text-align: right;\n",
       "    }\n",
       "</style>\n",
       "<table border=\"1\" class=\"dataframe\">\n",
       "  <thead>\n",
       "    <tr style=\"text-align: right;\">\n",
       "      <th></th>\n",
       "      <th>URL</th>\n",
       "      <th>RTT</th>\n",
       "    </tr>\n",
       "  </thead>\n",
       "  <tbody>\n",
       "    <tr>\n",
       "      <th>0</th>\n",
       "      <td>http://localhost:5000/safe/1/page?id=1</td>\n",
       "      <td>6.554458</td>\n",
       "    </tr>\n",
       "    <tr>\n",
       "      <th>1</th>\n",
       "      <td>http://localhost:5000/safe/2/page?id=1</td>\n",
       "      <td>3.299523</td>\n",
       "    </tr>\n",
       "    <tr>\n",
       "      <th>2</th>\n",
       "      <td>http://localhost:5000/safe/3/page?id=1</td>\n",
       "      <td>2.255223</td>\n",
       "    </tr>\n",
       "    <tr>\n",
       "      <th>3</th>\n",
       "      <td>http://localhost:5000/safe/4/page?id=1</td>\n",
       "      <td>2.725735</td>\n",
       "    </tr>\n",
       "    <tr>\n",
       "      <th>4</th>\n",
       "      <td>http://localhost:5000/safe/5/page?id=1</td>\n",
       "      <td>4.646487</td>\n",
       "    </tr>\n",
       "  </tbody>\n",
       "</table>\n",
       "</div>"
      ],
      "text/plain": [
       "                                      URL       RTT\n",
       "0  http://localhost:5000/safe/1/page?id=1  6.554458\n",
       "1  http://localhost:5000/safe/2/page?id=1  3.299523\n",
       "2  http://localhost:5000/safe/3/page?id=1  2.255223\n",
       "3  http://localhost:5000/safe/4/page?id=1  2.725735\n",
       "4  http://localhost:5000/safe/5/page?id=1  4.646487"
      ]
     },
     "execution_count": 247,
     "metadata": {},
     "output_type": "execute_result"
    }
   ],
   "source": [
    "safe_df.head()"
   ]
  },
  {
   "cell_type": "markdown",
   "metadata": {},
   "source": [
    "**2. Compare the RTTs and try to find a trend.**"
   ]
  },
  {
   "cell_type": "code",
   "execution_count": 248,
   "metadata": {},
   "outputs": [
    {
     "name": "stdout",
     "output_type": "stream",
     "text": [
      "Safe url statistics\n"
     ]
    },
    {
     "data": {
      "text/html": [
       "<div>\n",
       "<style scoped>\n",
       "    .dataframe tbody tr th:only-of-type {\n",
       "        vertical-align: middle;\n",
       "    }\n",
       "\n",
       "    .dataframe tbody tr th {\n",
       "        vertical-align: top;\n",
       "    }\n",
       "\n",
       "    .dataframe thead th {\n",
       "        text-align: right;\n",
       "    }\n",
       "</style>\n",
       "<table border=\"1\" class=\"dataframe\">\n",
       "  <thead>\n",
       "    <tr style=\"text-align: right;\">\n",
       "      <th></th>\n",
       "      <th>RTT</th>\n",
       "    </tr>\n",
       "  </thead>\n",
       "  <tbody>\n",
       "    <tr>\n",
       "      <th>count</th>\n",
       "      <td>100.000000</td>\n",
       "    </tr>\n",
       "    <tr>\n",
       "      <th>mean</th>\n",
       "      <td>3.199542</td>\n",
       "    </tr>\n",
       "    <tr>\n",
       "      <th>std</th>\n",
       "      <td>1.691694</td>\n",
       "    </tr>\n",
       "    <tr>\n",
       "      <th>min</th>\n",
       "      <td>0.446409</td>\n",
       "    </tr>\n",
       "    <tr>\n",
       "      <th>25%</th>\n",
       "      <td>2.014172</td>\n",
       "    </tr>\n",
       "    <tr>\n",
       "      <th>50%</th>\n",
       "      <td>2.885159</td>\n",
       "    </tr>\n",
       "    <tr>\n",
       "      <th>75%</th>\n",
       "      <td>3.881203</td>\n",
       "    </tr>\n",
       "    <tr>\n",
       "      <th>max</th>\n",
       "      <td>10.794784</td>\n",
       "    </tr>\n",
       "  </tbody>\n",
       "</table>\n",
       "</div>"
      ],
      "text/plain": [
       "              RTT\n",
       "count  100.000000\n",
       "mean     3.199542\n",
       "std      1.691694\n",
       "min      0.446409\n",
       "25%      2.014172\n",
       "50%      2.885159\n",
       "75%      3.881203\n",
       "max     10.794784"
      ]
     },
     "execution_count": 248,
     "metadata": {},
     "output_type": "execute_result"
    }
   ],
   "source": [
    "print('Safe url statistics')\n",
    "safe_df.describe()"
   ]
  },
  {
   "cell_type": "code",
   "execution_count": 249,
   "metadata": {},
   "outputs": [
    {
     "name": "stdout",
     "output_type": "stream",
     "text": [
      "Vulnerable url with delay statistics\n"
     ]
    },
    {
     "data": {
      "text/html": [
       "<div>\n",
       "<style scoped>\n",
       "    .dataframe tbody tr th:only-of-type {\n",
       "        vertical-align: middle;\n",
       "    }\n",
       "\n",
       "    .dataframe tbody tr th {\n",
       "        vertical-align: top;\n",
       "    }\n",
       "\n",
       "    .dataframe thead th {\n",
       "        text-align: right;\n",
       "    }\n",
       "</style>\n",
       "<table border=\"1\" class=\"dataframe\">\n",
       "  <thead>\n",
       "    <tr style=\"text-align: right;\">\n",
       "      <th></th>\n",
       "      <th>RTT</th>\n",
       "    </tr>\n",
       "  </thead>\n",
       "  <tbody>\n",
       "    <tr>\n",
       "      <th>count</th>\n",
       "      <td>100.000000</td>\n",
       "    </tr>\n",
       "    <tr>\n",
       "      <th>mean</th>\n",
       "      <td>8.141448</td>\n",
       "    </tr>\n",
       "    <tr>\n",
       "      <th>std</th>\n",
       "      <td>2.086598</td>\n",
       "    </tr>\n",
       "    <tr>\n",
       "      <th>min</th>\n",
       "      <td>5.724981</td>\n",
       "    </tr>\n",
       "    <tr>\n",
       "      <th>25%</th>\n",
       "      <td>6.786474</td>\n",
       "    </tr>\n",
       "    <tr>\n",
       "      <th>50%</th>\n",
       "      <td>7.486104</td>\n",
       "    </tr>\n",
       "    <tr>\n",
       "      <th>75%</th>\n",
       "      <td>8.908915</td>\n",
       "    </tr>\n",
       "    <tr>\n",
       "      <th>max</th>\n",
       "      <td>17.916236</td>\n",
       "    </tr>\n",
       "  </tbody>\n",
       "</table>\n",
       "</div>"
      ],
      "text/plain": [
       "              RTT\n",
       "count  100.000000\n",
       "mean     8.141448\n",
       "std      2.086598\n",
       "min      5.724981\n",
       "25%      6.786474\n",
       "50%      7.486104\n",
       "75%      8.908915\n",
       "max     17.916236"
      ]
     },
     "execution_count": 249,
     "metadata": {},
     "output_type": "execute_result"
    }
   ],
   "source": [
    "print('Vulnerable url with delay statistics')\n",
    "vul_delay_df.describe()"
   ]
  },
  {
   "cell_type": "code",
   "execution_count": 304,
   "metadata": {},
   "outputs": [
    {
     "data": {
      "image/png": "[encoded data removed]",
      "text/plain": [
       "<Figure size 1080x432 with 2 Axes>"
      ]
     },
     "metadata": {
      "needs_background": "light"
     },
     "output_type": "display_data"
    }
   ],
   "source": [
    "# Calculating CDFs\n",
    "safe_ecdf = ECDF(safe_df['RTT'])\n",
    "vul_ecdf = ECDF(vul_df['RTT'])\n",
    "vul_delay_ecdf = ECDF(vul_delay_df['RTT']) \n",
    "\n",
    "fig, ax = plt.subplots(nrows=1, ncols=2, figsize=(15, 6))\n",
    "#fig.tight_layout()\n",
    "\n",
    "ax[0].plot(safe_ecdf.x, safe_ecdf.y, marker='.', linestyle='none')\n",
    "ax[0].plot(vul_ecdf.x, vul_ecdf.y, marker='.', linestyle='none')\n",
    "\n",
    "ax[1].plot(safe_ecdf.x, safe_ecdf.y, marker='.', linestyle='none')\n",
    "ax[1].plot(vul_delay_ecdf.x, vul_ecdf.y, marker='.', linestyle='none')\n",
    "\n",
    "_ = ax[0].set_title('Safe vs Vulnerable (No Delay)')\n",
    "_ = ax[0].legend(('Safe', 'Vulnerable'), loc='best')\n",
    "_ = ax[0].set_xlabel('RTT (secs)')\n",
    "_ = ax[0].set_ylabel('ECDF')\n",
    "\n",
    "_ = ax[1].set_title('Safe vs Vulnerable (1 Second Delay)')\n",
    "_ = ax[1].legend(('Safe', 'Vulnerable'), loc='best')\n",
    "_ = ax[1].set_xlabel('RTT (secs)')\n",
    "_ = ax[1].set_ylabel('ECDF')"
   ]
  },
  {
   "cell_type": "code",
   "execution_count": 251,
   "metadata": {},
   "outputs": [
    {
     "name": "stdout",
     "output_type": "stream",
     "text": [
      "The mean of the safe URL without a sleep injection is: 3.1995424299999997\n"
     ]
    }
   ],
   "source": [
    "print('The mean of the safe URL without a sleep injection is: {}'.format(np.mean(safe_df['RTT'])))"
   ]
  },
  {
   "cell_type": "code",
   "execution_count": 252,
   "metadata": {},
   "outputs": [
    {
     "name": "stdout",
     "output_type": "stream",
     "text": [
      "The mean of the vulnerable URL with 1 second sleep injection: 8.141448309999998\n"
     ]
    }
   ],
   "source": [
    "print('The mean of the vulnerable URL with 1 second sleep injection: {}'.format(np.mean(vul_delay_df['RTT'])))"
   ]
  },
  {
   "cell_type": "markdown",
   "metadata": {},
   "source": [
    "**Observation:** As suspected, without a sleep delay injected, both safe and vulnerable urls have a similar distribution of RTTs. On the other hand, adding a sleep delay of 1 second to the vulnerables urls increseases their delays by about 5 seconds. Also, in some cases, there seems to be an overlap of RTTs between safe urls and vulnerable urls with a 1 second sleep injection. This could be avoided by increasing the sleep delay of the vulnerable url. "
   ]
  },
  {
   "cell_type": "markdown",
   "metadata": {},
   "source": [
    "## Part (b): Time-based Algorithm\n",
    "\n",
    "Since the RTT of a safe url can sometimes overlap with the RTT of a vulnerable url with a 1 second delay, it can be challenging to distinguish between the two without introducing false positives or making the elapsed time of the request too long. \n",
    "\n",
    "In order to combat this issue, one can collect a distribution of RTTs (of two different types) and compare them to each other in order to find a noticible difference in their central tendency. \n",
    "\n",
    "1. Collect data of pairs of RTTs with high and low sleep delay\n",
    "2. Compare their central tendency. "
   ]
  },
  {
   "cell_type": "markdown",
   "metadata": {},
   "source": [
    "**1. Collect data of pairs of RTTs with high and low sleep delay**"
   ]
  },
  {
   "cell_type": "markdown",
   "metadata": {},
   "source": [
    "**Note:** In order to make the pairs of distributions more comparable and minimise the elapsed time of the requests,\n",
    "a script was written to make these requests asynchronously which required me to run it outside of this jupyter notebook"
   ]
  },
  {
   "cell_type": "code",
   "execution_count": 273,
   "metadata": {},
   "outputs": [],
   "source": [
    "# Data collected for 25 pairs (50 requests total) of high (1 second) and low (0.05 seconds) delays. \n",
    "vul_pairs_df = pd.read_csv('Data/vulnerable_pairs_50_1_0.05.csv')\n",
    "safe_pairs_df = pd.read_csv('Data/safe_pairs_50_1_0.05.csv')\n",
    "\n",
    "vul_pairs_high = vul_pairs_df[vul_pairs_df['High Delay'] == 1]\n",
    "vul_pairs_low = vul_pairs_df[vul_pairs_df['High Delay'] == 0]\n",
    "\n",
    "safe_pairs_high = safe_pairs_df[safe_pairs_df['High Delay'] == 1]\n",
    "safe_pairs_low = safe_pairs_df[safe_pairs_df['High Delay'] == 0]"
   ]
  },
  {
   "cell_type": "code",
   "execution_count": 274,
   "metadata": {},
   "outputs": [
    {
     "data": {
      "text/html": [
       "<div>\n",
       "<style scoped>\n",
       "    .dataframe tbody tr th:only-of-type {\n",
       "        vertical-align: middle;\n",
       "    }\n",
       "\n",
       "    .dataframe tbody tr th {\n",
       "        vertical-align: top;\n",
       "    }\n",
       "\n",
       "    .dataframe thead th {\n",
       "        text-align: right;\n",
       "    }\n",
       "</style>\n",
       "<table border=\"1\" class=\"dataframe\">\n",
       "  <thead>\n",
       "    <tr style=\"text-align: right;\">\n",
       "      <th></th>\n",
       "      <th>URL</th>\n",
       "      <th>High Delay</th>\n",
       "      <th>RTT</th>\n",
       "    </tr>\n",
       "  </thead>\n",
       "  <tbody>\n",
       "    <tr>\n",
       "      <th>0</th>\n",
       "      <td>http://localhost:5000/vulnerable/1/page?id=SLE...</td>\n",
       "      <td>0</td>\n",
       "      <td>3.579312</td>\n",
       "    </tr>\n",
       "    <tr>\n",
       "      <th>1</th>\n",
       "      <td>http://localhost:5000/vulnerable/1/page?id=SLE...</td>\n",
       "      <td>1</td>\n",
       "      <td>7.351426</td>\n",
       "    </tr>\n",
       "    <tr>\n",
       "      <th>2</th>\n",
       "      <td>http://localhost:5000/vulnerable/1/page?id=SLE...</td>\n",
       "      <td>0</td>\n",
       "      <td>2.721237</td>\n",
       "    </tr>\n",
       "    <tr>\n",
       "      <th>3</th>\n",
       "      <td>http://localhost:5000/vulnerable/1/page?id=SLE...</td>\n",
       "      <td>1</td>\n",
       "      <td>10.874254</td>\n",
       "    </tr>\n",
       "    <tr>\n",
       "      <th>4</th>\n",
       "      <td>http://localhost:5000/vulnerable/1/page?id=SLE...</td>\n",
       "      <td>0</td>\n",
       "      <td>2.934227</td>\n",
       "    </tr>\n",
       "  </tbody>\n",
       "</table>\n",
       "</div>"
      ],
      "text/plain": [
       "                                                 URL  High Delay        RTT\n",
       "0  http://localhost:5000/vulnerable/1/page?id=SLE...           0   3.579312\n",
       "1  http://localhost:5000/vulnerable/1/page?id=SLE...           1   7.351426\n",
       "2  http://localhost:5000/vulnerable/1/page?id=SLE...           0   2.721237\n",
       "3  http://localhost:5000/vulnerable/1/page?id=SLE...           1  10.874254\n",
       "4  http://localhost:5000/vulnerable/1/page?id=SLE...           0   2.934227"
      ]
     },
     "execution_count": 274,
     "metadata": {},
     "output_type": "execute_result"
    }
   ],
   "source": [
    "vul_pairs_df.head()"
   ]
  },
  {
   "cell_type": "markdown",
   "metadata": {},
   "source": [
    "**2. Compare their central tendency.**"
   ]
  },
  {
   "cell_type": "code",
   "execution_count": 305,
   "metadata": {},
   "outputs": [
    {
     "data": {
      "image/png": "[encoded data removed]",
      "text/plain": [
       "<Figure size 864x432 with 1 Axes>"
      ]
     },
     "metadata": {
      "needs_background": "light"
     },
     "output_type": "display_data"
    }
   ],
   "source": [
    "# Calculating CDFs\n",
    "vul_pairs_high_ecdf = ECDF(pairs_high['RTT']) \n",
    "vul_pairs_low_ecdf = ECDF(pairs_low['RTT']) \n",
    "\n",
    "plt.figure(figsize=(12, 6))\n",
    "sns.distplot(vul_pairs_high['RTT'])\n",
    "sns.distplot(vul_pairs_low['RTT'])\n",
    "\n",
    "_ = plt.xlabel(\"RTT (seconds)\")\n",
    "_ = plt.ylabel('Probability')\n",
    "_ = plt.legend(('High', 'Low'), loc='best')\n",
    "_ = plt.title('Distribution - RTT High and Low')"
   ]
  },
  {
   "cell_type": "code",
   "execution_count": 295,
   "metadata": {},
   "outputs": [
    {
     "name": "stdout",
     "output_type": "stream",
     "text": [
      "The median of the high delay for a vulnerable url is: 7.978613814\n",
      "The median of the low delay for a vulnerable url is: 3.1059598669999997\n"
     ]
    }
   ],
   "source": [
    "vul_high_median = np.median(vul_pairs_high['RTT'])\n",
    "vul_low_median = np.median(vul_pairs_low['RTT'])\n",
    "\n",
    "print('The median of the high delay for a vulnerable url is: {}'.format(vul_high_median))\n",
    "print('The median of the low delay for a vulnerable url is: {}'.format(vul_low_median))"
   ]
  },
  {
   "cell_type": "code",
   "execution_count": 296,
   "metadata": {},
   "outputs": [
    {
     "name": "stdout",
     "output_type": "stream",
     "text": [
      "The difference of their median is: 4.872653947\n"
     ]
    }
   ],
   "source": [
    "print('The difference of their median is: {}'.format(vul_high_median - vul_low_median))"
   ]
  },
  {
   "cell_type": "code",
   "execution_count": 306,
   "metadata": {},
   "outputs": [
    {
     "data": {
      "image/png": "[encoded data removed]",
      "text/plain": [
       "<Figure size 864x432 with 1 Axes>"
      ]
     },
     "metadata": {
      "needs_background": "light"
     },
     "output_type": "display_data"
    }
   ],
   "source": [
    "# Calculating CDFs\n",
    "vul_pairs_high_ecdf = ECDF(pairs_high['RTT']) \n",
    "vul_pairs_low_ecdf = ECDF(pairs_low['RTT']) \n",
    "\n",
    "plt.figure(figsize=(12, 6))\n",
    "sns.distplot(safe_pairs_high['RTT'])\n",
    "sns.distplot(safe_pairs_low['RTT'])\n",
    "\n",
    "_ = plt.xlabel(\"RTT (seconds)\")\n",
    "_ = plt.ylabel('Probability')\n",
    "_ = plt.legend(('High', 'Low'), loc='best')\n",
    "_ = plt.title('Distribution - RTT High and Low')"
   ]
  },
  {
   "cell_type": "code",
   "execution_count": 298,
   "metadata": {},
   "outputs": [
    {
     "name": "stdout",
     "output_type": "stream",
     "text": [
      "The median of the high delay for a safe url is: 2.578487667\n",
      "The median of the low delay for a safe url is: 3.096570514\n"
     ]
    }
   ],
   "source": [
    "safe_high_median = np.median(safe_pairs_high['RTT'])\n",
    "safe_low_median = np.median(safe_pairs_low['RTT'])\n",
    "print('The median of the high delay for a safe url is: {}'.format(safe_high_median))\n",
    "print('The median of the low delay for a safe url is: {}'.format(safe_low_median))"
   ]
  },
  {
   "cell_type": "code",
   "execution_count": 299,
   "metadata": {},
   "outputs": [
    {
     "name": "stdout",
     "output_type": "stream",
     "text": [
      "The difference of their median is: -0.5180828470000001\n"
     ]
    }
   ],
   "source": [
    "print('The difference of their median is: {}'.format(safe_high_median - safe_low_median))"
   ]
  },
  {
   "cell_type": "markdown",
   "metadata": {},
   "source": [
    "With this in mind, the following 4 parameters will be helpful in building an algorithm that gives us the results we need:\n",
    "\n",
    "**1. High Delay:** A sleep delay that is long.\n",
    "\n",
    "**2. Low Delay:** As sleep delay that is short. \n",
    "\n",
    "**3. Number of Requests:** Number of requests for which we should collect RTTs. Half of these requests will be made using a high delay and the other half with a low delay.\n",
    "\n",
    "**4. Difference:** The number used to compared the difference in the median in the pairs (high and low) of requests. If the central tendency of the pairs is greater than this difference than the url is labeled as vulnerable. "
   ]
  },
  {
   "cell_type": "markdown",
   "metadata": {},
   "source": [
    "## Part (c) Evaluating Results\n",
    "\n",
    "Since our goal is to optimize for speed and specificity, then we will need to pick a High Delay that is small enough that the program completes within a few seconds and a difference high enough that the FPR stays below 0.0001.\n",
    "\n",
    "1. Test 10,000+ safe and vulnerable urls and evaluate their results.\n",
    "2. Tweak parameters and repeat steps 1 and 2 until the desired metrics are reached"
   ]
  },
  {
   "cell_type": "markdown",
   "metadata": {},
   "source": [
    "**1. Test 10,000+ safe and vulnerable urls and evaluate their results**"
   ]
  },
  {
   "cell_type": "markdown",
   "metadata": {},
   "source": [
    "**Note:** Since the algorithm makes url requets asynchronously, it needed to be run outside this jupyter notebook. The code can be found The code can be found inside `time_based_test.py`"
   ]
  },
  {
   "cell_type": "code",
   "execution_count": 257,
   "metadata": {},
   "outputs": [],
   "source": [
    "safe_test_df = pd.read_csv('Data/safe_results_10500_0.8_0.03_24_3.csv')\n",
    "vul_test_df = pd.read_csv('Data/vulnerable_results_10500_0.8_0.03_24_3.csv')"
   ]
  },
  {
   "cell_type": "code",
   "execution_count": 258,
   "metadata": {},
   "outputs": [
    {
     "data": {
      "text/html": [
       "<div>\n",
       "<style scoped>\n",
       "    .dataframe tbody tr th:only-of-type {\n",
       "        vertical-align: middle;\n",
       "    }\n",
       "\n",
       "    .dataframe tbody tr th {\n",
       "        vertical-align: top;\n",
       "    }\n",
       "\n",
       "    .dataframe thead th {\n",
       "        text-align: right;\n",
       "    }\n",
       "</style>\n",
       "<table border=\"1\" class=\"dataframe\">\n",
       "  <thead>\n",
       "    <tr style=\"text-align: right;\">\n",
       "      <th></th>\n",
       "      <th>Test Result</th>\n",
       "    </tr>\n",
       "  </thead>\n",
       "  <tbody>\n",
       "    <tr>\n",
       "      <th>0</th>\n",
       "      <td>0</td>\n",
       "    </tr>\n",
       "    <tr>\n",
       "      <th>1</th>\n",
       "      <td>0</td>\n",
       "    </tr>\n",
       "    <tr>\n",
       "      <th>2</th>\n",
       "      <td>0</td>\n",
       "    </tr>\n",
       "    <tr>\n",
       "      <th>3</th>\n",
       "      <td>0</td>\n",
       "    </tr>\n",
       "    <tr>\n",
       "      <th>4</th>\n",
       "      <td>0</td>\n",
       "    </tr>\n",
       "  </tbody>\n",
       "</table>\n",
       "</div>"
      ],
      "text/plain": [
       "   Test Result\n",
       "0            0\n",
       "1            0\n",
       "2            0\n",
       "3            0\n",
       "4            0"
      ]
     },
     "execution_count": 258,
     "metadata": {},
     "output_type": "execute_result"
    }
   ],
   "source": [
    "safe_test_df.head()"
   ]
  },
  {
   "cell_type": "code",
   "execution_count": 259,
   "metadata": {},
   "outputs": [
    {
     "name": "stdout",
     "output_type": "stream",
     "text": [
      "The False Positive Rate is: 0.0\n",
      "The False Negative Rate is: 0.09342857142857143\n"
     ]
    }
   ],
   "source": [
    "# Get False Positive Rate (FPR)\n",
    "fpr = float(np.sum(safe_test_df['Test Result'])/safe_test_df.shape[0])\n",
    "print('The False Positive Rate is: {}'.format(fpr))\n",
    "\n",
    "\n",
    "# Get False Negative Rate (FNR)\n",
    "fnr = float(vul_test_df[vul_test_df['Test Result'] == 0].count()/vul_test_df.shape[0])\n",
    "print('The False Negative Rate is: {}'.format(fnr))"
   ]
  },
  {
   "cell_type": "markdown",
   "metadata": {},
   "source": [
    "**2. Tweak parameters and repeat steps 1 and 2 until the desired metrics are reached**"
   ]
  },
  {
   "cell_type": "code",
   "execution_count": null,
   "metadata": {},
   "outputs": [],
   "source": []
  }
 ],
 "metadata": {
  "kernelspec": {
   "display_name": "Python 3",
   "language": "python",
   "name": "python3"
  },
  "language_info": {
   "codemirror_mode": {
    "name": "ipython",
    "version": 3
   },
   "file_extension": ".py",
   "mimetype": "text/x-python",
   "name": "python",
   "nbconvert_exporter": "python",
   "pygments_lexer": "ipython3",
   "version": "3.7.2"
  }
 },
 "nbformat": 4,
 "nbformat_minor": 2
}
