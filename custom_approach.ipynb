{
 "cells": [
  {
   "cell_type": "markdown",
   "metadata": {},
   "source": [
    "# Time-Based Algorithm: blind SQL injection vulnerability detection\n",
    "\n",
    "In this notebook, I consider the problem of blind SQL injection vulnerability detection using a custom time-based algorithm. Specifically, making mutiple requests (half with a high sleep delay and the other half with a low sleep delay) to the url being tested and comparing their RTTs to decide whether the url is vulnerable (label 1) or safe (label 0)\n",
    "\n",
    "**Optimization:** The goal is optimize the algorithm for speed and accuracy. More speficically, it needs to have a true positive rate of less than 0.0001 (1 in 10,000) and a sleep delay that returns a RTT of less than 10 seconds on average"
   ]
  },
  {
   "cell_type": "markdown",
   "metadata": {},
   "source": [
    "Import libraries"
   ]
  },
  {
   "cell_type": "code",
   "execution_count": 31,
   "metadata": {},
   "outputs": [],
   "source": [
    "import numpy as np\n",
    "import requests\n",
    "import pandas as pd\n",
    "import matplotlib.pyplot as plt\n",
    "import csv\n",
    "from statsmodels.distributions.empirical_distribution import ECDF\n",
    "%matplotlib inline"
   ]
  },
  {
   "cell_type": "markdown",
   "metadata": {},
   "source": [
    "# Part (a): Data Exploration\n",
    "\n",
    "1. Collect RTTS of safe and vulnerable URLs and save them into CSV files.\n",
    "\n",
    "2. Compare the safe and vulnerable RTTs by visualizing them and comparing their mean (as well as other metrics).\n"
   ]
  },
  {
   "cell_type": "markdown",
   "metadata": {},
   "source": [
    "**1. Collect RTTS of vulnerable and safe urls**"
   ]
  },
  {
   "cell_type": "code",
   "execution_count": 54,
   "metadata": {},
   "outputs": [],
   "source": [
    "def collect_rtts(page_type = 'safe', n_pages = 100, sleep_delay = 0):\n",
    "    '''\n",
    "    Collects RTTS from URLs and saves them into CSV file\n",
    "    '''\n",
    "    \n",
    "    if sleep_delay != 0:\n",
    "        query = 'SLEEP({})'.format(sleep_delay)\n",
    "        file_name = '{}_{}_{}.csv'.format(page_type, n_page, sleep_delay)\n",
    "    \n",
    "    else:\n",
    "        query = '1'\n",
    "        file_name = '{}_{}.csv'.format(page_type, n_pages)\n",
    "    \n",
    "    with open(file_name, 'w') as file:\n",
    "        writer = csv.writer(file, delimiter=',', lineterminator='\\n')\n",
    "        writer.writerow(['URL', 'RTT'])\n",
    "        for i in range(1, n_pages+1):\n",
    "            url = 'http://localhost:5000/{}/{}/page?id={}'.format(page_type, page_num, query)\n",
    "            response = requests.get(url)\n",
    "            row = [url, response.elapsed.total_seconds()]\n",
    "            writer.writerow(row)"
   ]
  },
  {
   "cell_type": "raw",
   "metadata": {},
   "source": [
    "collect_rtts('safe', 100)\n",
    "collect_rtts('vulnerable', 100)\n",
    "collect_rtts('vulnerable', 100, 1)"
   ]
  },
  {
   "cell_type": "code",
   "execution_count": 55,
   "metadata": {},
   "outputs": [],
   "source": [
    "# Read data\n",
    "safe_df = pd.read_csv('Data/safe_100.csv')\n",
    "vul_df = pd.read_csv('Data/vulnerable_100.csv')\n",
    "vul_delay_df = pd.read_csv('Data/vulnerable_100_1.csv') # 1 second sleep delay injected"
   ]
  },
  {
   "cell_type": "code",
   "execution_count": 37,
   "metadata": {},
   "outputs": [
    {
     "data": {
      "text/html": [
       "<div>\n",
       "<style scoped>\n",
       "    .dataframe tbody tr th:only-of-type {\n",
       "        vertical-align: middle;\n",
       "    }\n",
       "\n",
       "    .dataframe tbody tr th {\n",
       "        vertical-align: top;\n",
       "    }\n",
       "\n",
       "    .dataframe thead th {\n",
       "        text-align: right;\n",
       "    }\n",
       "</style>\n",
       "<table border=\"1\" class=\"dataframe\">\n",
       "  <thead>\n",
       "    <tr style=\"text-align: right;\">\n",
       "      <th></th>\n",
       "      <th>URL</th>\n",
       "      <th>RTT</th>\n",
       "    </tr>\n",
       "  </thead>\n",
       "  <tbody>\n",
       "    <tr>\n",
       "      <th>0</th>\n",
       "      <td>http://localhost:5000/safe/1/page?id=1</td>\n",
       "      <td>6.554458</td>\n",
       "    </tr>\n",
       "    <tr>\n",
       "      <th>1</th>\n",
       "      <td>http://localhost:5000/safe/2/page?id=1</td>\n",
       "      <td>3.299523</td>\n",
       "    </tr>\n",
       "    <tr>\n",
       "      <th>2</th>\n",
       "      <td>http://localhost:5000/safe/3/page?id=1</td>\n",
       "      <td>2.255223</td>\n",
       "    </tr>\n",
       "    <tr>\n",
       "      <th>3</th>\n",
       "      <td>http://localhost:5000/safe/4/page?id=1</td>\n",
       "      <td>2.725735</td>\n",
       "    </tr>\n",
       "    <tr>\n",
       "      <th>4</th>\n",
       "      <td>http://localhost:5000/safe/5/page?id=1</td>\n",
       "      <td>4.646487</td>\n",
       "    </tr>\n",
       "  </tbody>\n",
       "</table>\n",
       "</div>"
      ],
      "text/plain": [
       "                                      URL       RTT\n",
       "0  http://localhost:5000/safe/1/page?id=1  6.554458\n",
       "1  http://localhost:5000/safe/2/page?id=1  3.299523\n",
       "2  http://localhost:5000/safe/3/page?id=1  2.255223\n",
       "3  http://localhost:5000/safe/4/page?id=1  2.725735\n",
       "4  http://localhost:5000/safe/5/page?id=1  4.646487"
      ]
     },
     "execution_count": 37,
     "metadata": {},
     "output_type": "execute_result"
    }
   ],
   "source": [
    "safe_df.head()"
   ]
  },
  {
   "cell_type": "markdown",
   "metadata": {},
   "source": [
    "**2. Compare the RTTs and try to find a trend.**"
   ]
  },
  {
   "cell_type": "code",
   "execution_count": 36,
   "metadata": {},
   "outputs": [
    {
     "data": {
      "text/plain": [
       "Text(0, 0.5, 'ECDF')"
      ]
     },
     "execution_count": 36,
     "metadata": {},
     "output_type": "execute_result"
    },
    {
     "data": {
      "image/png": "[encoded data removed]",
      "text/plain": [
       "<Figure size 1080x432 with 2 Axes>"
      ]
     },
     "metadata": {
      "needs_background": "light"
     },
     "output_type": "display_data"
    }
   ],
   "source": [
    "# Calculating CDFs\n",
    "safe_ecdf = ECDF(safe_df['RTT'])\n",
    "vul_ecdf = ECDF(vul_df['RTT'])\n",
    "vul_delay_ecdf = ECDF(vul_delay_df['RTT']) \n",
    "\n",
    "fig, ax = plt.subplots(nrows=1, ncols=2, figsize=(15, 6))\n",
    "#fig.tight_layout()\n",
    "\n",
    "ax[0].plot(safe_ecdf.x, safe_ecdf.y, marker='.', linestyle='none')\n",
    "ax[0].plot(vul_ecdf.x, vul_ecdf.y, marker='.', linestyle='none')\n",
    "\n",
    "ax[1].plot(safe_ecdf.x, safe_ecdf.y, marker='.', linestyle='none')\n",
    "ax[1].plot(vul_delay_ecdf.x, vul_ecdf.y, marker='.', linestyle='none')\n",
    "\n",
    "ax[0].set_title('Safe vs Vulnerable (No Delay)')\n",
    "ax[0].legend(('Safe', 'Vulnerable'), loc='best')\n",
    "ax[0].set_xlabel('RTT (secs)')\n",
    "ax[0].set_ylabel('ECDF')\n",
    "\n",
    "ax[1].set_title('Safe vs Vulnerable (1 Second Delay)')\n",
    "ax[1].legend(('Safe', 'Vulnerable'), loc='best')\n",
    "ax[1].set_xlabel('RTT (secs)')\n",
    "ax[1].set_ylabel('ECDF')"
   ]
  },
  {
   "cell_type": "code",
   "execution_count": 58,
   "metadata": {},
   "outputs": [
    {
     "name": "stdout",
     "output_type": "stream",
     "text": [
      "The mean of the safe URL without a sleep injection is: 3.1995424299999997\n"
     ]
    }
   ],
   "source": [
    "print('The mean of the safe URL without a sleep injection is: {}'.format(np.mean(safe_df['RTT'])))"
   ]
  },
  {
   "cell_type": "code",
   "execution_count": 59,
   "metadata": {},
   "outputs": [
    {
     "name": "stdout",
     "output_type": "stream",
     "text": [
      "The mean of the vulnerable URL with 1 second sleep injection: 8.141448309999998\n"
     ]
    }
   ],
   "source": [
    "print('The mean of the vulnerable URL with 1 second sleep injection: {}'.format(np.mean(vul_delay_df['RTT'])))"
   ]
  },
  {
   "cell_type": "markdown",
   "metadata": {},
   "source": [
    "**Observation:** As suspected, without a sleep delay injected, both safe and vulnerable urls have a similar distribution of RTTs. On the other hand, adding a sleep delay of 1 second to the vulnerables urls incresease their delays by about 5 seconds."
   ]
  },
  {
   "cell_type": "markdown",
   "metadata": {},
   "source": [
    "## Part (b): Time-based Algorithm\n",
    "\n",
    "1. "
   ]
  },
  {
   "cell_type": "code",
   "execution_count": null,
   "metadata": {},
   "outputs": [],
   "source": [
    "async def get_url_rtt(url, session, i):\n",
    "    '''\n",
    "    Collects the request RTT of the \"url\" passed above and returns it along with and id \"i\"\n",
    "    '''\n",
    "\n",
    "    get_url_rtt.start_time[url+str(i)] = timeit.default_timer()\n",
    "    async with session.get(url) as response:\n",
    "        resp = await response.read()\n",
    "        rtt = timeit.default_timer() - get_url_rtt.start_time[url+str(i)]\n",
    "        return (i, rtt)\n",
    "\n",
    "def analyze_rtts(rtts, diff):\n",
    "    '''\n",
    "    Analyses two sets of rtts and decides whether the difference shows a vulnerability or not\n",
    "    Using dummy way of analyzing the rtts. will be replaced with more sophisticated method\n",
    "    '''\n",
    "\n",
    "    low_delay = []\n",
    "    high_delay = []\n",
    "    for rtt in rtts:\n",
    "        if rtt[0] % 2 == 0:\n",
    "            high_delay.append(rtt[1])\n",
    "        else:\n",
    "            low_delay.append(rtt[1])\n",
    "    \n",
    "    difference = np.median(high_delay) - np.median(low_delay)\n",
    "\n",
    "    # If the the high and low rtts differ by more than \n",
    "    return int(difference >= diff)"
   ]
  },
  {
   "cell_type": "markdown",
   "metadata": {},
   "source": [
    "## Part (c) Evaluating Results"
   ]
  },
  {
   "cell_type": "code",
   "execution_count": 62,
   "metadata": {},
   "outputs": [],
   "source": [
    "safe_test_df = pd.read_csv('Data/safe_results_10500_0.8_0.03_24_3.csv')\n",
    "vul_test_df = pd.read_csv('Data/vulnerable_results_10500_0.8_0.03_24_3.csv')"
   ]
  },
  {
   "cell_type": "code",
   "execution_count": 63,
   "metadata": {},
   "outputs": [
    {
     "data": {
      "text/html": [
       "<div>\n",
       "<style scoped>\n",
       "    .dataframe tbody tr th:only-of-type {\n",
       "        vertical-align: middle;\n",
       "    }\n",
       "\n",
       "    .dataframe tbody tr th {\n",
       "        vertical-align: top;\n",
       "    }\n",
       "\n",
       "    .dataframe thead th {\n",
       "        text-align: right;\n",
       "    }\n",
       "</style>\n",
       "<table border=\"1\" class=\"dataframe\">\n",
       "  <thead>\n",
       "    <tr style=\"text-align: right;\">\n",
       "      <th></th>\n",
       "      <th>Test Result</th>\n",
       "    </tr>\n",
       "  </thead>\n",
       "  <tbody>\n",
       "    <tr>\n",
       "      <th>0</th>\n",
       "      <td>0</td>\n",
       "    </tr>\n",
       "    <tr>\n",
       "      <th>1</th>\n",
       "      <td>0</td>\n",
       "    </tr>\n",
       "    <tr>\n",
       "      <th>2</th>\n",
       "      <td>0</td>\n",
       "    </tr>\n",
       "    <tr>\n",
       "      <th>3</th>\n",
       "      <td>0</td>\n",
       "    </tr>\n",
       "    <tr>\n",
       "      <th>4</th>\n",
       "      <td>0</td>\n",
       "    </tr>\n",
       "  </tbody>\n",
       "</table>\n",
       "</div>"
      ],
      "text/plain": [
       "   Test Result\n",
       "0            0\n",
       "1            0\n",
       "2            0\n",
       "3            0\n",
       "4            0"
      ]
     },
     "execution_count": 63,
     "metadata": {},
     "output_type": "execute_result"
    }
   ],
   "source": [
    "safe_test_df.head()"
   ]
  },
  {
   "cell_type": "code",
   "execution_count": 70,
   "metadata": {},
   "outputs": [
    {
     "name": "stdout",
     "output_type": "stream",
     "text": [
      "The False Positive Rate is: 0.0\n",
      "The False Negative Rate is: 0.09342857142857143\n"
     ]
    }
   ],
   "source": [
    "# Get False Positive Rate (FPR)\n",
    "fpr = float(np.sum(safe_test_df['Test Result'])/safe_test_df.shape[0])\n",
    "print('The False Positive Rate is: {}'.format(fpr))\n",
    "\n",
    "\n",
    "# Get False Negative Rate (FNR)\n",
    "fnr = float(vul_test_df[vul_test_df['Test Result'] == 0].count()/vul_test_df.shape[0])\n",
    "print('The False Negative Rate is: {}'.format(fnr))"
   ]
  }
 ],
 "metadata": {
  "kernelspec": {
   "display_name": "Python 3",
   "language": "python",
   "name": "python3"
  },
  "language_info": {
   "codemirror_mode": {
    "name": "ipython",
    "version": 3
   },
   "file_extension": ".py",
   "mimetype": "text/x-python",
   "name": "python",
   "nbconvert_exporter": "python",
   "pygments_lexer": "ipython3",
   "version": "3.7.2"
  }
 },
 "nbformat": 4,
 "nbformat_minor": 2
}
